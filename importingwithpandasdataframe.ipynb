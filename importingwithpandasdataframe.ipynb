{
  "metadata": {
    "language_info": {
      "codemirror_mode": {
        "name": "python",
        "version": 3
      },
      "file_extension": ".py",
      "mimetype": "text/x-python",
      "name": "python",
      "nbconvert_exporter": "python",
      "pygments_lexer": "ipython3",
      "version": "3.8"
    },
    "kernelspec": {
      "name": "python",
      "display_name": "Python (Pyodide)",
      "language": "python"
    }
  },
  "nbformat_minor": 4,
  "nbformat": 4,
  "cells": [
    {
      "cell_type": "code",
      "source": "import pandas as pd\n",
      "metadata": {
        "trusted": true
      },
      "execution_count": 1,
      "outputs": []
    },
    {
      "cell_type": "code",
      "source": "dataset = pd.read_csv('supermarketdata.csv')",
      "metadata": {
        "trusted": true
      },
      "execution_count": 2,
      "outputs": []
    },
    {
      "cell_type": "code",
      "source": "dataset.head()",
      "metadata": {
        "trusted": true
      },
      "execution_count": 3,
      "outputs": [
        {
          "execution_count": 3,
          "output_type": "execute_result",
          "data": {
            "text/plain": "    Invoice ID Branch       City Customer type  Gender  \\\n0  750-67-8428      A     Yangon        Member  Female   \n1  226-31-3081      C  Naypyitaw        Normal  Female   \n2  631-41-3108      A     Yangon        Normal    Male   \n3  123-19-1176      A     Yangon        Member    Male   \n4  373-73-7910      A     Yangon        Normal    Male   \n\n             Product line Unit price  Quantity   Tax 5%    Total week_day  \\\n0       Health and beauty     $74.69         7  26.1415  $548.97      Sat   \n1  Electronic accessories     $15.28         5   3.8200   $80.22      Fri   \n2      Home and lifestyle     $46.33         7  16.2155  $340.53      Sun   \n3       Health and beauty     $58.22         8  23.2880  $489.05      Sun   \n4       Sports and travel     $86.31         7  30.2085  $634.38      Fri   \n\n        Date      Time      Payment  Revenue  Rating  \n0   1/5/2019   1:08 PM      Ewallet  $522.83     9.1  \n1   3/8/2019  10:29 AM         Cash   $76.40     9.6  \n2   3/3/2019   1:23 PM  Credit card  $324.31     7.4  \n3  1/27/2019   8:33 PM      Ewallet  $465.76     8.4  \n4   2/8/2019  10:37 AM      Ewallet  $604.17     5.3  ",
            "text/html": "<div>\n<style scoped>\n    .dataframe tbody tr th:only-of-type {\n        vertical-align: middle;\n    }\n\n    .dataframe tbody tr th {\n        vertical-align: top;\n    }\n\n    .dataframe thead th {\n        text-align: right;\n    }\n</style>\n<table border=\"1\" class=\"dataframe\">\n  <thead>\n    <tr style=\"text-align: right;\">\n      <th></th>\n      <th>Invoice ID</th>\n      <th>Branch</th>\n      <th>City</th>\n      <th>Customer type</th>\n      <th>Gender</th>\n      <th>Product line</th>\n      <th>Unit price</th>\n      <th>Quantity</th>\n      <th>Tax 5%</th>\n      <th>Total</th>\n      <th>week_day</th>\n      <th>Date</th>\n      <th>Time</th>\n      <th>Payment</th>\n      <th>Revenue</th>\n      <th>Rating</th>\n    </tr>\n  </thead>\n  <tbody>\n    <tr>\n      <th>0</th>\n      <td>750-67-8428</td>\n      <td>A</td>\n      <td>Yangon</td>\n      <td>Member</td>\n      <td>Female</td>\n      <td>Health and beauty</td>\n      <td>$74.69</td>\n      <td>7</td>\n      <td>26.1415</td>\n      <td>$548.97</td>\n      <td>Sat</td>\n      <td>1/5/2019</td>\n      <td>1:08 PM</td>\n      <td>Ewallet</td>\n      <td>$522.83</td>\n      <td>9.1</td>\n    </tr>\n    <tr>\n      <th>1</th>\n      <td>226-31-3081</td>\n      <td>C</td>\n      <td>Naypyitaw</td>\n      <td>Normal</td>\n      <td>Female</td>\n      <td>Electronic accessories</td>\n      <td>$15.28</td>\n      <td>5</td>\n      <td>3.8200</td>\n      <td>$80.22</td>\n      <td>Fri</td>\n      <td>3/8/2019</td>\n      <td>10:29 AM</td>\n      <td>Cash</td>\n      <td>$76.40</td>\n      <td>9.6</td>\n    </tr>\n    <tr>\n      <th>2</th>\n      <td>631-41-3108</td>\n      <td>A</td>\n      <td>Yangon</td>\n      <td>Normal</td>\n      <td>Male</td>\n      <td>Home and lifestyle</td>\n      <td>$46.33</td>\n      <td>7</td>\n      <td>16.2155</td>\n      <td>$340.53</td>\n      <td>Sun</td>\n      <td>3/3/2019</td>\n      <td>1:23 PM</td>\n      <td>Credit card</td>\n      <td>$324.31</td>\n      <td>7.4</td>\n    </tr>\n    <tr>\n      <th>3</th>\n      <td>123-19-1176</td>\n      <td>A</td>\n      <td>Yangon</td>\n      <td>Member</td>\n      <td>Male</td>\n      <td>Health and beauty</td>\n      <td>$58.22</td>\n      <td>8</td>\n      <td>23.2880</td>\n      <td>$489.05</td>\n      <td>Sun</td>\n      <td>1/27/2019</td>\n      <td>8:33 PM</td>\n      <td>Ewallet</td>\n      <td>$465.76</td>\n      <td>8.4</td>\n    </tr>\n    <tr>\n      <th>4</th>\n      <td>373-73-7910</td>\n      <td>A</td>\n      <td>Yangon</td>\n      <td>Normal</td>\n      <td>Male</td>\n      <td>Sports and travel</td>\n      <td>$86.31</td>\n      <td>7</td>\n      <td>30.2085</td>\n      <td>$634.38</td>\n      <td>Fri</td>\n      <td>2/8/2019</td>\n      <td>10:37 AM</td>\n      <td>Ewallet</td>\n      <td>$604.17</td>\n      <td>5.3</td>\n    </tr>\n  </tbody>\n</table>\n</div>"
          },
          "metadata": {}
        }
      ]
    },
    {
      "cell_type": "code",
      "source": "import pandas as pd\nsalesdata ={\"Invoice_ID\":['750-67-8428','226-31-3081','631-41-3108','123-19-1176'],\n            \"Branch\" : ['A','C','A','A'],\n            \"City\" : ['Yangon','Naypyitaw','Yanagon','Yangon'],\n            \"Customer_type\":['Member','Normal','Normal','member'],\n            \"Gender\": ['Female','Female','Male','Male']\n}\n#create dataframe\ndf = pd.DataFrame(salesdata)\nprint(df)",
      "metadata": {
        "trusted": true
      },
      "execution_count": 5,
      "outputs": [
        {
          "name": "stdout",
          "text": "    Invoice_ID Branch       City Customer_type  Gender\n0  750-67-8428      A     Yangon        Member  Female\n1  226-31-3081      C  Naypyitaw        Normal  Female\n2  631-41-3108      A    Yanagon        Normal    Male\n3  123-19-1176      A     Yangon        member    Male\n",
          "output_type": "stream"
        }
      ]
    },
    {
      "cell_type": "code",
      "source": "",
      "metadata": {},
      "execution_count": null,
      "outputs": []
    }
  ]
}